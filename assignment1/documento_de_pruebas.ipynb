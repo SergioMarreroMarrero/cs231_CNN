{
 "cells": [
  {
   "cell_type": "code",
   "execution_count": 5,
   "metadata": {
    "collapsed": false
   },
   "outputs": [],
   "source": [
    "# Librerias necesarias\n",
    "import numpy as np\n",
    "import matplotlib.pyplot as plt\n",
    "%matplotlib inline \n"
   ]
  },
  {
   "cell_type": "markdown",
   "metadata": {},
   "source": [
    "# Numpy"
   ]
  },
  {
   "cell_type": "code",
   "execution_count": 2,
   "metadata": {
    "collapsed": false
   },
   "outputs": [
    {
     "name": "stdout",
     "output_type": "stream",
     "text": [
      "[11 10  9  8  7  6  5  4  3  2] <type 'numpy.ndarray'> [11 10  9  8  7  6  5  4  3  2]\n"
     ]
    }
   ],
   "source": [
    "b = np.array(range(11,1,-1))\n",
    "a = np.arange(11,1,-1)\n",
    "print a, type(a), b"
   ]
  },
  {
   "cell_type": "code",
   "execution_count": 23,
   "metadata": {
    "collapsed": false
   },
   "outputs": [
    {
     "name": "stdout",
     "output_type": "stream",
     "text": [
      "9\n",
      "2\n"
     ]
    }
   ],
   "source": [
    "for indice,contenido in enumerate(a):\n",
    "    pass\n",
    "\n",
    "print n\n",
    "print m"
   ]
  },
  {
   "cell_type": "code",
   "execution_count": 27,
   "metadata": {
    "collapsed": false
   },
   "outputs": [
    {
     "data": {
      "text/plain": [
       "array([-2, -1,  0,  1,  2])"
      ]
     },
     "execution_count": 27,
     "metadata": {},
     "output_type": "execute_result"
    }
   ],
   "source": [
    "x = np.arange(-2, 3)\n",
    "x"
   ]
  },
  {
   "cell_type": "markdown",
   "metadata": {},
   "source": [
    "# RANDOM"
   ]
  },
  {
   "cell_type": "code",
   "execution_count": 14,
   "metadata": {
    "collapsed": false
   },
   "outputs": [
    {
     "name": "stdout",
     "output_type": "stream",
     "text": [
      "2\n",
      "[2 3 3 2 1 4 0 2 1 2 2 1 1 0 4 4 4 2 4 4 0 0 4 2 2 3 2 3 0 1 3 3 0 2 3 1 3\n",
      " 1 3 2 2 4 1 4 2 1 3 0 2 4 1 3 4 2 2 0 3 0 2 2 1 1 3 1 3 1 2 3 0 0 4 4 1 3\n",
      " 2 3 2 3 1 2 2 2 2 2 4 1 4 0 3 0 3 2 3 0 3 0 1 1 4 1]\n"
     ]
    }
   ],
   "source": [
    "print np.random.choice(5)\n",
    "random_array= np.random.choice(5,100)\n",
    "print random_array\n"
   ]
  },
  {
   "cell_type": "code",
   "execution_count": 2,
   "metadata": {
    "collapsed": false
   },
   "outputs": [
    {
     "ename": "NameError",
     "evalue": "name 'plt' is not defined",
     "output_type": "error",
     "traceback": [
      "\u001b[1;31m---------------------------------------------------------------------------\u001b[0m",
      "\u001b[1;31mNameError\u001b[0m                                 Traceback (most recent call last)",
      "\u001b[1;32m<ipython-input-2-4d5a6533b747>\u001b[0m in \u001b[0;36m<module>\u001b[1;34m()\u001b[0m\n\u001b[1;32m----> 1\u001b[1;33m \u001b[0mplt\u001b[0m\u001b[1;33m.\u001b[0m\u001b[0mhist\u001b[0m\u001b[1;33m(\u001b[0m\u001b[0mrandom_array\u001b[0m\u001b[1;33m)\u001b[0m\u001b[1;33m\u001b[0m\u001b[0m\n\u001b[0m",
      "\u001b[1;31mNameError\u001b[0m: name 'plt' is not defined"
     ]
    }
   ],
   "source": [
    "plt.hist(random_array)"
   ]
  },
  {
   "cell_type": "code",
   "execution_count": 14,
   "metadata": {
    "collapsed": false
   },
   "outputs": [
    {
     "name": "stdout",
     "output_type": "stream",
     "text": [
      "valores:  [ 0 19 18 17 16  0 14 13 12 11  0  9  8  7  6  0  4  3  2  1]\n",
      "valores:  [ 1  2  3  4  6  7  8  9 11 12 13 14 16 17 18 19]\n"
     ]
    },
    {
     "data": {
      "text/plain": [
       "array([ 8, 68, 68, 32,  8])"
      ]
     },
     "execution_count": 14,
     "metadata": {},
     "output_type": "execute_result"
    }
   ],
   "source": [
    "valores = np.arange(20,0,-1)\n",
    "for i in valores:\n",
    "    if valores[i-1] % 5 == 0:\n",
    "        valores[i-1]= 0\n",
    "        \n",
    "print \"valores: \", valores\n",
    "print \"valores: \", (np.flatnonzero(valores)) # Lista de posiciones del vector \"valores\" que no son cero\n",
    "\n",
    "valores = 4*valores\n",
    "\n",
    "np.random.choice(valores,5)"
   ]
  },
  {
   "cell_type": "code",
   "execution_count": 1,
   "metadata": {
    "collapsed": false
   },
   "outputs": [
    {
     "ename": "NameError",
     "evalue": "name 'np' is not defined",
     "output_type": "error",
     "traceback": [
      "\u001b[1;31m---------------------------------------------------------------------------\u001b[0m",
      "\u001b[1;31mNameError\u001b[0m                                 Traceback (most recent call last)",
      "\u001b[1;32m<ipython-input-1-de2a26c547e3>\u001b[0m in \u001b[0;36m<module>\u001b[1;34m()\u001b[0m\n\u001b[1;32m----> 1\u001b[1;33m \u001b[0ma\u001b[0m \u001b[1;33m=\u001b[0m \u001b[0mnp\u001b[0m\u001b[1;33m.\u001b[0m\u001b[0mmatrix\u001b[0m\u001b[1;33m(\u001b[0m\u001b[1;33m[\u001b[0m\u001b[1;33m[\u001b[0m\u001b[1;36m1\u001b[0m\u001b[1;33m,\u001b[0m \u001b[1;36m2\u001b[0m\u001b[1;33m,\u001b[0m \u001b[1;36m3\u001b[0m\u001b[1;33m,\u001b[0m \u001b[1;36m4\u001b[0m\u001b[1;33m]\u001b[0m\u001b[1;33m,\u001b[0m \u001b[1;33m[\u001b[0m\u001b[1;36m5\u001b[0m\u001b[1;33m,\u001b[0m \u001b[1;36m6\u001b[0m\u001b[1;33m,\u001b[0m \u001b[1;36m7\u001b[0m\u001b[1;33m,\u001b[0m \u001b[1;36m8\u001b[0m\u001b[1;33m]\u001b[0m\u001b[1;33m]\u001b[0m\u001b[1;33m)\u001b[0m\u001b[1;33m\u001b[0m\u001b[0m\n\u001b[0m\u001b[0;32m      2\u001b[0m \u001b[0mb\u001b[0m \u001b[1;33m=\u001b[0m \u001b[0mnp\u001b[0m\u001b[1;33m.\u001b[0m\u001b[0mreshape\u001b[0m\u001b[1;33m(\u001b[0m\u001b[0ma\u001b[0m\u001b[1;33m,\u001b[0m \u001b[1;33m-\u001b[0m\u001b[1;36m1\u001b[0m\u001b[1;33m)\u001b[0m\u001b[1;31m# b = np.reshape(a, a.shape[0]*a.shape[1])\u001b[0m\u001b[1;33m\u001b[0m\u001b[0m\n\u001b[0;32m      3\u001b[0m \u001b[1;32mprint\u001b[0m \u001b[0ma\u001b[0m\u001b[1;33m,\u001b[0m \u001b[0ma\u001b[0m\u001b[1;33m.\u001b[0m\u001b[0mshape\u001b[0m\u001b[1;33m\u001b[0m\u001b[0m\n\u001b[0;32m      4\u001b[0m \u001b[1;32mprint\u001b[0m \u001b[0mb\u001b[0m\u001b[1;33m,\u001b[0m \u001b[0mb\u001b[0m\u001b[1;33m.\u001b[0m\u001b[0mshape\u001b[0m\u001b[1;33m\u001b[0m\u001b[0m\n",
      "\u001b[1;31mNameError\u001b[0m: name 'np' is not defined"
     ]
    }
   ],
   "source": [
    "a = np.matrix([[1, 2, 3, 4], [5, 6, 7, 8]])\n",
    "b = np.reshape(a, -1)# b = np.reshape(a, a.shape[0]*a.shape[1])\n",
    "print a, a.shape\n",
    "print b, b.shape\n"
   ]
  },
  {
   "cell_type": "code",
   "execution_count": 95,
   "metadata": {
    "collapsed": false
   },
   "outputs": [
    {
     "name": "stdout",
     "output_type": "stream",
     "text": [
      "[3 0 4 1 0 3 2 2 4 0 3 1 4 2 0 3 2 2 3 3 2 1 1 4 1 3 2 3 4 2 0 3 0 3 1 0 1\n",
      " 2 3 1 4 2 0 1 1 4 4 2 3 2 0 2 1 0 0 0 4 4 3 4 1 3 1 0 3 0 1 2 0 1 1 1 1 3\n",
      " 1 4 1 0 1 1 1 2 2 0 0 1 2 3 0 2 0 2 0 3 1 1 4 1 4 0]\n",
      "[3]\n",
      "[0 0 0 0 0 0 0 0 0 0 0 0 0 0 0 0 0 0 0 0 0 0 1 1 1 1 1 1 1 1 1 1 1 1 1 1 1\n",
      " 1 1 1 1 1 1 1 1 1 1 1 1 2 2 2 2 2 2 2 2 2 2 2 2 2 2 2 2 2 2 2 3 3 3 3 3 3\n",
      " 3 3 3 3 3 3 3 3 3 3 3 3 4 4 4 4 4 4 4 4 4 4 4 4 4 4]\n"
     ]
    }
   ],
   "source": [
    "v1 = np.arange(20)\n",
    "v2 = v1**2\n",
    "random_array= np.random.choice(5,100)\n",
    "\n",
    "# print v1,\"\\n\" ,v2\n",
    "print random_array\n",
    "print random_array[:1]\n",
    "idx_random_array_sorted = np.argsort(random_array)\n",
    "print np.take(random_array , idx_random_array_sorted)\n",
    "\n",
    "#for i,idx in enumerate(idx_random_array_sorted):\n",
    "    #print random_array[idx]\n",
    "\n",
    "\n"
   ]
  },
  {
   "cell_type": "markdown",
   "metadata": {},
   "source": [
    "** bincount : Para contar valores repetidos**"
   ]
  },
  {
   "cell_type": "code",
   "execution_count": 44,
   "metadata": {
    "collapsed": false
   },
   "outputs": [
    {
     "name": "stdout",
     "output_type": "stream",
     "text": [
      "[0 5 3 0 0 1 0 0 0 0 0 0 0 0 0 0 0 0 0 0 0 0 0 0 0 1]\n",
      "[ 1  2  5 25]\n"
     ]
    }
   ],
   "source": [
    "x = np.array([1,1,1,2,2,2,5,25,1,1])\n",
    "y = np.bincount(x)\n",
    "ii = np.flatnonzero(y)\n",
    "\n",
    "print y\n",
    "print ii"
   ]
  },
  {
   "cell_type": "markdown",
   "metadata": {},
   "source": [
    "** Unique **\n"
   ]
  },
  {
   "cell_type": "code",
   "execution_count": 67,
   "metadata": {
    "collapsed": false
   },
   "outputs": [
    {
     "ename": "SyntaxError",
     "evalue": "invalid syntax (<ipython-input-67-340d1ad2962c>, line 9)",
     "output_type": "error",
     "traceback": [
      "\u001b[1;36m  File \u001b[1;32m\"<ipython-input-67-340d1ad2962c>\"\u001b[1;36m, line \u001b[1;32m9\u001b[0m\n\u001b[1;33m    def predictingClass(vectorOfClasses)\u001b[0m\n\u001b[1;37m                                        ^\u001b[0m\n\u001b[1;31mSyntaxError\u001b[0m\u001b[1;31m:\u001b[0m invalid syntax\n"
     ]
    }
   ],
   "source": [
    "x = np.array([1,1,1,2,2,2,5,25,1,1])\n",
    "y , frecuency = np.unique(x , return_counts= True) \n",
    "print frecuency\n",
    "most_repeated = np.amax(frecuency)\n",
    "others_most_repeated = frecuency[frecuency == most_repeated]\n",
    "print others_most_repeated\n",
    "print y\n",
    "\n",
    "def predictingClass(vectorOfClasses)\n",
    "    \"\"\" Introduce an array of the classes and\n",
    "    return an array with the class predict\"\"\"\n",
    "    theClasses , frecuencyOfClasses = np.unique(vectorOfClasses , return_counts= True)    \n",
    "    \n",
    "    \n",
    "def someClassesWin(theClasses , frecuencyOfClasses)\n",
    "     iOfFocMax = np.argmax(frecuencyOfClasses)\n",
    "     listOfTheMostRepeatedFrecuency = frecuencyOfClasses[iOfFocMax] == frecuencyOfClasses\n",
    "    return theClasses[listOfTheMostRepeatedFrecuency]\n",
    "    ## xx , frecuency = np.unique(frecuencyOfClasses)\n"
   ]
  },
  {
   "cell_type": "code",
   "execution_count": 90,
   "metadata": {
    "collapsed": false
   },
   "outputs": [
    {
     "name": "stdout",
     "output_type": "stream",
     "text": [
      "[0 1 2 3 4] [3 4 4 5 5]\n",
      "[3 4]\n"
     ]
    }
   ],
   "source": [
    "frecuencyOfClasses = np.array([3,4,4,5,5])\n",
    "theClasses = np.arange(5)\n",
    "print theClasses , frecuencyOfClasses\n",
    "iOfFocMax = np.argmax(frecuencyOfClasses)\n",
    "listOfTheMostRepeatedFrecuency = frecuencyOfClasses[iOfFocMax] == frecuencyOfClasses\n",
    "print theClasses[listOfTheMostRepeatedFrecuency]\n",
    "\n",
    "\n",
    "\n",
    "\n",
    "\n",
    "def someClassesWin(theClasses , frecuencyOfClasses):\n",
    "    iOfFocMax = np.argmax(frecuencyOfClasses)\n",
    "    listOfTheMostRepeatedFrecuency = frecuencyOfClasses[iOfFocMax] == frecuencyOfClasses\n",
    "    return theClasses[listOfTheMostRepeatedFrecuency]\n"
   ]
  },
  {
   "cell_type": "code",
   "execution_count": 96,
   "metadata": {
    "collapsed": false
   },
   "outputs": [
    {
     "name": "stdout",
     "output_type": "stream",
     "text": [
      "[3 4]\n",
      "3\n"
     ]
    }
   ],
   "source": [
    "print someClassesWin(theClasses , frecuencyOfClasses)\n",
    "print np.amin(someClassesWin(theClasses,frecuencyOfClasses))"
   ]
  },
  {
   "cell_type": "code",
   "execution_count": 1,
   "metadata": {
    "collapsed": false
   },
   "outputs": [
    {
     "ename": "NameError",
     "evalue": "name 'np' is not defined",
     "output_type": "error",
     "traceback": [
      "\u001b[1;31m---------------------------------------------------------------------------\u001b[0m",
      "\u001b[1;31mNameError\u001b[0m                                 Traceback (most recent call last)",
      "\u001b[1;32m<ipython-input-1-cacb442ca049>\u001b[0m in \u001b[0;36m<module>\u001b[1;34m()\u001b[0m\n\u001b[1;32m----> 1\u001b[1;33m \u001b[0mx\u001b[0m \u001b[1;33m=\u001b[0m \u001b[0mnp\u001b[0m\u001b[1;33m.\u001b[0m\u001b[0marray\u001b[0m\u001b[1;33m(\u001b[0m\u001b[1;33m[\u001b[0m\u001b[1;36m1\u001b[0m\u001b[1;33m,\u001b[0m\u001b[1;36m1\u001b[0m\u001b[1;33m,\u001b[0m\u001b[1;36m1\u001b[0m\u001b[1;33m,\u001b[0m\u001b[1;36m2\u001b[0m\u001b[1;33m,\u001b[0m\u001b[1;36m2\u001b[0m\u001b[1;33m,\u001b[0m\u001b[1;36m2\u001b[0m\u001b[1;33m,\u001b[0m\u001b[1;36m5\u001b[0m\u001b[1;33m,\u001b[0m\u001b[1;36m25\u001b[0m\u001b[1;33m,\u001b[0m\u001b[1;36m1\u001b[0m\u001b[1;33m,\u001b[0m\u001b[1;36m1\u001b[0m\u001b[1;33m]\u001b[0m\u001b[1;33m)\u001b[0m\u001b[1;33m\u001b[0m\u001b[0m\n\u001b[0m\u001b[0;32m      2\u001b[0m \u001b[0mindices\u001b[0m \u001b[1;33m=\u001b[0m \u001b[0mnp\u001b[0m\u001b[1;33m.\u001b[0m\u001b[0marray\u001b[0m\u001b[1;33m(\u001b[0m\u001b[1;33m[\u001b[0m\u001b[1;36m1\u001b[0m\u001b[1;33m,\u001b[0m\u001b[1;36m4\u001b[0m\u001b[1;33m,\u001b[0m\u001b[1;36m7\u001b[0m\u001b[1;33m]\u001b[0m\u001b[1;33m)\u001b[0m\u001b[1;33m\u001b[0m\u001b[0m\n\u001b[0;32m      3\u001b[0m \u001b[1;32mprint\u001b[0m \u001b[0mx\u001b[0m\u001b[1;33m[\u001b[0m\u001b[0mindices\u001b[0m\u001b[1;33m]\u001b[0m\u001b[1;33m\u001b[0m\u001b[0m\n",
      "\u001b[1;31mNameError\u001b[0m: name 'np' is not defined"
     ]
    }
   ],
   "source": [
    "x = np.array([1,1,1,2,2,2,5,25,1,1])\n",
    "indices = np.array([1,4,7])\n",
    "print x[indices]"
   ]
  },
  {
   "cell_type": "code",
   "execution_count": 9,
   "metadata": {
    "collapsed": false
   },
   "outputs": [
    {
     "name": "stdout",
     "output_type": "stream",
     "text": [
      "[0 1 2 3 4 5 6 7 8 9] [ 2  1  0 -1 -2 -3 -4 -5 -6 -7]\n"
     ]
    }
   ],
   "source": [
    "v1 = np.arange(10)\n",
    "print v1, 2 - v1\n",
    "\n"
   ]
  }
 ],
 "metadata": {
  "kernelspec": {
   "display_name": "Python [Root]",
   "language": "python",
   "name": "Python [Root]"
  },
  "language_info": {
   "codemirror_mode": {
    "name": "ipython",
    "version": 2
   },
   "file_extension": ".py",
   "mimetype": "text/x-python",
   "name": "python",
   "nbconvert_exporter": "python",
   "pygments_lexer": "ipython2",
   "version": "2.7.12"
  }
 },
 "nbformat": 4,
 "nbformat_minor": 0
}
